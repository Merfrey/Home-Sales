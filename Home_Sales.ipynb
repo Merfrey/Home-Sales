{
  "nbformat": 4,
  "nbformat_minor": 0,
  "metadata": {
    "colab": {
      "provenance": []
    },
    "kernelspec": {
      "name": "python3",
      "display_name": "Python 3"
    },
    "language_info": {
      "name": "python"
    }
  },
  "cells": [
    {
      "cell_type": "code",
      "execution_count": 1,
      "metadata": {
        "id": "6d5KqrXa1LC8",
        "outputId": "4fb2ded7-8ba0-4871-e85c-baf7584fe6a9",
        "colab": {
          "base_uri": "https://localhost:8080/"
        }
      },
      "outputs": [
        {
          "output_type": "stream",
          "name": "stdout",
          "text": [
            "\r0% [Working]\r            \rHit:1 http://archive.ubuntu.com/ubuntu jammy InRelease\n",
            "\r0% [Waiting for headers] [Waiting for headers] [Connected to cloud.r-project.org (18.160.213.93)] [C\r                                                                                                    \rGet:2 http://security.ubuntu.com/ubuntu jammy-security InRelease [110 kB]\n",
            "\r                                                                                                    \rGet:3 https://cloud.r-project.org/bin/linux/ubuntu jammy-cran40/ InRelease [3,626 B]\n",
            "\r0% [Waiting for headers] [2 InRelease 14.2 kB/110 kB 13%] [Connecting to ppa.launchpadcontent.net (1\r                                                                                                    \rGet:4 http://archive.ubuntu.com/ubuntu jammy-updates InRelease [119 kB]\n",
            "Get:5 https://developer.download.nvidia.com/compute/cuda/repos/ubuntu2204/x86_64  InRelease [1,581 B]\n",
            "Hit:6 http://archive.ubuntu.com/ubuntu jammy-backports InRelease\n",
            "Hit:7 https://ppa.launchpadcontent.net/c2d4u.team/c2d4u4.0+/ubuntu jammy InRelease\n",
            "Hit:8 https://ppa.launchpadcontent.net/deadsnakes/ppa/ubuntu jammy InRelease\n",
            "Get:9 https://developer.download.nvidia.com/compute/cuda/repos/ubuntu2204/x86_64  Packages [633 kB]\n",
            "Hit:10 https://ppa.launchpadcontent.net/graphics-drivers/ppa/ubuntu jammy InRelease\n",
            "Hit:11 https://ppa.launchpadcontent.net/ubuntugis/ppa/ubuntu jammy InRelease\n",
            "Get:12 http://security.ubuntu.com/ubuntu jammy-security/universe amd64 Packages [1,035 kB]\n",
            "Get:13 http://security.ubuntu.com/ubuntu jammy-security/restricted amd64 Packages [1,512 kB]\n",
            "Get:14 http://security.ubuntu.com/ubuntu jammy-security/main amd64 Packages [1,280 kB]\n",
            "Get:15 http://archive.ubuntu.com/ubuntu jammy-updates/main amd64 Packages [1,551 kB]\n",
            "Get:16 http://archive.ubuntu.com/ubuntu jammy-updates/universe amd64 Packages [1,303 kB]\n",
            "Get:17 http://archive.ubuntu.com/ubuntu jammy-updates/restricted amd64 Packages [1,538 kB]\n",
            "Fetched 9,087 kB in 5s (1,958 kB/s)\n",
            "Reading package lists... Done\n"
          ]
        }
      ],
      "source": [
        "# Find the latest version of spark from https://downloads.apache.org/spark/\n",
        "# https://downloads.apache.org/spark/spark-3.5.0/spark-3.5.0-bin-hadoop3.tgz\n",
        "\n",
        "\n",
        "# Install Java\n",
        "!apt-get update\n",
        "!apt-get install openjdk-8-jdk-headless -qq > /dev/null\n",
        "\n",
        "# Download and install Apache Spark\n",
        "# Ensure this URL points to a valid Spark tarball\n",
        "spark_version = '3.5.0'\n",
        "hadoop_version = '3'\n",
        "spark_filename = f'spark-{spark_version}-bin-hadoop{hadoop_version}'\n",
        "spark_url = f'https://downloads.apache.org/spark/spark-{spark_version}/{spark_filename}.tgz'\n",
        "\n",
        "!wget -q {spark_url}\n",
        "!tar xf {spark_filename}.tgz\n",
        "\n",
        "# Set Environment Variables\n",
        "import os\n",
        "os.environ[\"JAVA_HOME\"] = \"/usr/lib/jvm/java-8-openjdk-amd64\"\n",
        "os.environ[\"SPARK_HOME\"] = f\"/content/{spark_filename}\"\n",
        "\n",
        "# Install findspark\n",
        "!pip install -q findspark\n",
        "\n",
        "# Import findspark and initialize.\n",
        "import findspark\n",
        "findspark.init()"
      ]
    },
    {
      "cell_type": "code",
      "execution_count": 2,
      "metadata": {
        "id": "2XbWNf1Te5fM"
      },
      "outputs": [],
      "source": [
        "# Import packages\n",
        "from pyspark.sql import SparkSession\n",
        "import time\n",
        "\n",
        "# Create a SparkSession\n",
        "spark = SparkSession.builder.appName(\"SparkSQL\").getOrCreate()"
      ]
    },
    {
      "cell_type": "code",
      "execution_count": 3,
      "metadata": {
        "id": "wOJqxG_RPSwp",
        "colab": {
          "base_uri": "https://localhost:8080/"
        },
        "outputId": "9ed8b8b2-88d8-4e94-83a4-97ef46667760"
      },
      "outputs": [
        {
          "output_type": "stream",
          "name": "stdout",
          "text": [
            "+--------------------+----------+----------+------+--------+---------+-----------+--------+------+----------+----+\n",
            "|                  id|      date|date_built| price|bedrooms|bathrooms|sqft_living|sqft_lot|floors|waterfront|view|\n",
            "+--------------------+----------+----------+------+--------+---------+-----------+--------+------+----------+----+\n",
            "|f8a53099-ba1c-47d...|2022-04-08|      2016|936923|       4|        3|       3167|   11733|     2|         1|  76|\n",
            "|7530a2d8-1ae3-451...|2021-06-13|      2013|379628|       2|        2|       2235|   14384|     1|         0|  23|\n",
            "|43de979c-0bf0-4c9...|2019-04-12|      2014|417866|       2|        2|       2127|   10575|     2|         0|   0|\n",
            "|b672c137-b88c-48b...|2019-10-16|      2016|239895|       2|        2|       1631|   11149|     2|         0|   0|\n",
            "|e0726d4d-d595-407...|2022-01-08|      2017|424418|       3|        2|       2249|   13878|     2|         0|   4|\n",
            "|5aa00529-0533-46b...|2019-01-30|      2017|218712|       2|        3|       1965|   14375|     2|         0|   7|\n",
            "|131492a1-72e2-4a8...|2020-02-08|      2017|419199|       2|        3|       2062|    8876|     2|         0|   6|\n",
            "|8d54a71b-c520-44e...|2019-07-21|      2010|323956|       2|        3|       1506|   11816|     1|         0|  25|\n",
            "|e81aacfe-17fe-46b...|2020-06-16|      2016|181925|       3|        3|       2137|   11709|     2|         0|  22|\n",
            "|2ed8d509-7372-46d...|2021-08-06|      2015|258710|       3|        3|       1918|    9666|     1|         0|  25|\n",
            "|f876d86f-3c9f-42b...|2019-02-27|      2011|167864|       3|        3|       2471|   13924|     2|         0|  15|\n",
            "|0a2bd445-8508-4d8...|2021-12-30|      2014|337527|       2|        3|       1926|   12556|     1|         0|  23|\n",
            "|941bad30-eb49-4a7...|2020-05-09|      2015|229896|       3|        3|       2197|    8641|     1|         0|   3|\n",
            "|dd61eb34-6589-4c0...|2021-07-25|      2016|210247|       3|        2|       1672|   11986|     2|         0|  28|\n",
            "|f1e4cef7-d151-439...|2019-02-01|      2011|398667|       2|        3|       2331|   11356|     1|         0|   7|\n",
            "|ea620c7b-c2f7-4c6...|2021-05-31|      2011|437958|       3|        3|       2356|   11052|     1|         0|  26|\n",
            "|f233cb41-6f33-4b0...|2021-07-18|      2016|437375|       4|        3|       1704|   11721|     2|         0|  34|\n",
            "|c797ca12-52cd-4b1...|2019-06-08|      2015|288650|       2|        3|       2100|   10419|     2|         0|   7|\n",
            "|0cfe57f3-28c2-472...|2019-10-04|      2015|308313|       3|        3|       1960|    9453|     2|         0|   2|\n",
            "|4566cd2a-ac6e-435...|2019-07-15|      2016|177541|       3|        3|       2130|   10517|     2|         0|  25|\n",
            "+--------------------+----------+----------+------+--------+---------+-----------+--------+------+----------+----+\n",
            "only showing top 20 rows\n",
            "\n"
          ]
        }
      ],
      "source": [
        "# 1. Read in the AWS S3 bucket into a DataFrame.\n",
        "from pyspark import SparkFiles\n",
        "\n",
        "url = \"https://2u-data-curriculum-team.s3.amazonaws.com/dataviz-classroom/v1.2/22-big-data/home_sales_revised.csv\"\n",
        "\n",
        "spark.sparkContext.addFile(url)\n",
        "\n",
        "df = spark.read.csv(SparkFiles.get(\"home_sales_revised.csv\"), sep=\",\", header=True)\n",
        "\n",
        "df.show()"
      ]
    },
    {
      "cell_type": "code",
      "execution_count": 4,
      "metadata": {
        "id": "RoljcJ7WPpnm",
        "colab": {
          "base_uri": "https://localhost:8080/"
        },
        "outputId": "6fbcffc3-ab95-4235-c72d-a7e8a75830db"
      },
      "outputs": [
        {
          "output_type": "stream",
          "name": "stdout",
          "text": [
            "+----+--------------------+\n",
            "|view|round(avg(price), 0)|\n",
            "+----+--------------------+\n",
            "|   7|            239961.0|\n",
            "|  15|            236561.0|\n",
            "|  11|            231355.0|\n",
            "|  29|            235915.0|\n",
            "|  42|            235743.0|\n",
            "|  87|           1391853.0|\n",
            "|   3|            234471.0|\n",
            "|  30|            234214.0|\n",
            "|  34|            232112.0|\n",
            "|   8|            234155.0|\n",
            "|  22|            233356.0|\n",
            "|  28|            233239.0|\n",
            "|  85|           1386319.0|\n",
            "|  35|            231676.0|\n",
            "|  16|            235060.0|\n",
            "|   0|            238377.0|\n",
            "|  98|           1363392.0|\n",
            "|  47|            240530.0|\n",
            "|  99|           1358635.0|\n",
            "|  96|           1403339.0|\n",
            "+----+--------------------+\n",
            "only showing top 20 rows\n",
            "\n",
            "time passed is :3.9358839988708496\n"
          ]
        }
      ],
      "source": [
        "# 2. Create a temporary view of the DataFrame.\n",
        "df.createOrReplaceTempView(\"home_sales\")\n",
        "\n",
        "start_time = time.time()\n",
        "\n",
        "query1 = \"\"\"\n",
        "\n",
        "select\n",
        "      YEAR(date), ROUND(avg(price))\n",
        "from\n",
        "      home_sales\n",
        "where\n",
        "      bedrooms = '4'\n",
        "group by\n",
        "      YEAR(date)\n",
        "\n",
        "\"\"\"\n",
        "\n",
        "query2 = \"\"\"\n",
        "\n",
        "select\n",
        "      date_built, ROUND(avg(price))\n",
        "from\n",
        "      home_sales\n",
        "where\n",
        "      bedrooms = '3' and bathrooms = '3'\n",
        "group by\n",
        "      date_built\n",
        "\n",
        "\"\"\"\n",
        "\n",
        "query3 = \"\"\"\n",
        "\n",
        "select\n",
        "      date_built, ROUND(avg(price))\n",
        "from\n",
        "      home_sales\n",
        "where\n",
        "      bedrooms = '3' and bathrooms = '3' and floors = '2' and sqft_living <= '2000'\n",
        "group by\n",
        "      date_built\n",
        "\n",
        "\"\"\"\n",
        "\n",
        "query4 = \"\"\"\n",
        "\n",
        "select\n",
        "      view, ROUND(avg(price))\n",
        "from\n",
        "      home_sales\n",
        "where\n",
        "      price <= '350000'\n",
        "group by\n",
        "      view\n",
        "\n",
        "\"\"\"\n",
        "\n",
        "\n",
        "#spark.sql(query1).show()\n",
        "#spark.sql(query2).show()\n",
        "#spark.sql(query3).show()\n",
        "spark.sql(query4).show()\n",
        "\n",
        "print(f\"time passed is :{time.time() - start_time}\")"
      ]
    },
    {
      "cell_type": "code",
      "execution_count": 5,
      "metadata": {
        "id": "L6fkwOeOmqvq",
        "colab": {
          "base_uri": "https://localhost:8080/"
        },
        "outputId": "9c598e05-286b-44bf-dcd7-e60177067b93"
      },
      "outputs": [
        {
          "output_type": "stream",
          "name": "stdout",
          "text": [
            "+----------+--------------------+\n",
            "|year(date)|round(avg(price), 0)|\n",
            "+----------+--------------------+\n",
            "|      2022|            296364.0|\n",
            "|      2019|            300264.0|\n",
            "|      2020|            298354.0|\n",
            "|      2021|            301819.0|\n",
            "+----------+--------------------+\n",
            "\n"
          ]
        }
      ],
      "source": [
        "# 3. What is the average price for a four bedroom house sold in each year rounded to two decimal places?\n",
        "spark.sql(query1).show()"
      ]
    },
    {
      "cell_type": "code",
      "execution_count": 6,
      "metadata": {
        "id": "l8p_tUS8h8it",
        "colab": {
          "base_uri": "https://localhost:8080/"
        },
        "outputId": "c5a4bf9a-11ca-429b-f8f4-efe0a87c9722"
      },
      "outputs": [
        {
          "output_type": "stream",
          "name": "stdout",
          "text": [
            "+----------+--------------------+\n",
            "|date_built|round(avg(price), 0)|\n",
            "+----------+--------------------+\n",
            "|      2016|            290555.0|\n",
            "|      2012|            293683.0|\n",
            "|      2017|            292677.0|\n",
            "|      2014|            290852.0|\n",
            "|      2013|            295962.0|\n",
            "|      2011|            291117.0|\n",
            "|      2015|            288770.0|\n",
            "|      2010|            292860.0|\n",
            "+----------+--------------------+\n",
            "\n"
          ]
        }
      ],
      "source": [
        "# 4. What is the average price of a home for each year the home was built that have 3 bedrooms and 3 bathrooms rounded to two decimal places?\n",
        "spark.sql(query2).show()\n"
      ]
    },
    {
      "cell_type": "code",
      "execution_count": 7,
      "metadata": {
        "id": "Y-Eytz64liDU",
        "colab": {
          "base_uri": "https://localhost:8080/"
        },
        "outputId": "7286210c-c9ba-4ae5-a8c0-c73e8a543f83"
      },
      "outputs": [
        {
          "output_type": "stream",
          "name": "stdout",
          "text": [
            "+----------+--------------------+\n",
            "|date_built|round(avg(price), 0)|\n",
            "+----------+--------------------+\n",
            "|      2016|            281115.0|\n",
            "|      2012|            285400.0|\n",
            "|      2017|            283691.0|\n",
            "|      2014|            290731.0|\n",
            "|      2013|            286275.0|\n",
            "|      2011|            285979.0|\n",
            "|      2015|            285707.0|\n",
            "|      2010|            275609.0|\n",
            "+----------+--------------------+\n",
            "\n"
          ]
        }
      ],
      "source": [
        "#  5. What is the average price of a home for each year built that have 3 bedrooms, 3 bathrooms, with two floors,\n",
        "# and are greater than or equal to 2,000 square feet rounded to two decimal places?\n",
        "spark.sql(query3).show()\n"
      ]
    },
    {
      "cell_type": "code",
      "execution_count": 8,
      "metadata": {
        "id": "GUrfgOX1pCRd",
        "colab": {
          "base_uri": "https://localhost:8080/"
        },
        "outputId": "441ffb70-1a50-42b9-d249-27c8aaf0e25d"
      },
      "outputs": [
        {
          "output_type": "stream",
          "name": "stdout",
          "text": [
            "+----+--------------------+\n",
            "|view|round(avg(price), 0)|\n",
            "+----+--------------------+\n",
            "|   7|            239961.0|\n",
            "|  15|            236561.0|\n",
            "|  11|            231355.0|\n",
            "|  29|            235915.0|\n",
            "|  42|            235743.0|\n",
            "|  87|           1391853.0|\n",
            "|   3|            234471.0|\n",
            "|  30|            234214.0|\n",
            "|  34|            232112.0|\n",
            "|   8|            234155.0|\n",
            "|  22|            233356.0|\n",
            "|  28|            233239.0|\n",
            "|  85|           1386319.0|\n",
            "|  35|            231676.0|\n",
            "|  16|            235060.0|\n",
            "|   0|            238377.0|\n",
            "|  98|           1363392.0|\n",
            "|  47|            240530.0|\n",
            "|  99|           1358635.0|\n",
            "|  96|           1403339.0|\n",
            "+----+--------------------+\n",
            "only showing top 20 rows\n",
            "\n",
            "--- 0.6458089351654053 seconds ---\n"
          ]
        }
      ],
      "source": [
        "# 6. What is the \"view\" rating for the average price of a home, rounded to two decimal places, where the homes are greater than\n",
        "# or equal to $350,000? Although this is a small dataset, determine the run time for this query.\n",
        "\n",
        "start_time = time.time()\n",
        "\n",
        "spark.sql(query4).show()\n",
        "\n",
        "print(\"--- %s seconds ---\" % (time.time() - start_time))"
      ]
    },
    {
      "cell_type": "code",
      "execution_count": 9,
      "metadata": {
        "id": "KAhk3ZD2tFy8",
        "colab": {
          "base_uri": "https://localhost:8080/"
        },
        "outputId": "b0a6eb77-d3fb-41a4-da0a-5d19cdfabd46"
      },
      "outputs": [
        {
          "output_type": "execute_result",
          "data": {
            "text/plain": [
              "DataFrame[]"
            ]
          },
          "metadata": {},
          "execution_count": 9
        }
      ],
      "source": [
        "# 7. Cache the the temporary table home_sales.\n",
        "spark.sql(\"cache table home_sales\")"
      ]
    },
    {
      "cell_type": "code",
      "execution_count": 10,
      "metadata": {
        "id": "4opVhbvxtL-i",
        "colab": {
          "base_uri": "https://localhost:8080/"
        },
        "outputId": "62d721e6-db0e-4b79-c827-b89d601a738a"
      },
      "outputs": [
        {
          "output_type": "execute_result",
          "data": {
            "text/plain": [
              "True"
            ]
          },
          "metadata": {},
          "execution_count": 10
        }
      ],
      "source": [
        "# 8. Check if the table is cached.\n",
        "spark.catalog.isCached('home_sales')"
      ]
    },
    {
      "cell_type": "code",
      "execution_count": 11,
      "metadata": {
        "id": "5GnL46lwTSEk",
        "colab": {
          "base_uri": "https://localhost:8080/"
        },
        "outputId": "55bb7a16-a627-4a15-cffc-2c5c4c901998"
      },
      "outputs": [
        {
          "output_type": "stream",
          "name": "stdout",
          "text": [
            "+----+--------------------+\n",
            "|view|round(avg(price), 0)|\n",
            "+----+--------------------+\n",
            "|   7|            239961.0|\n",
            "|  15|            236561.0|\n",
            "|  11|            231355.0|\n",
            "|  29|            235915.0|\n",
            "|  42|            235743.0|\n",
            "|  87|           1391853.0|\n",
            "|   3|            234471.0|\n",
            "|  30|            234214.0|\n",
            "|  34|            232112.0|\n",
            "|   8|            234155.0|\n",
            "|  22|            233356.0|\n",
            "|  28|            233239.0|\n",
            "|  85|           1386319.0|\n",
            "|  35|            231676.0|\n",
            "|  16|            235060.0|\n",
            "|   0|            238377.0|\n",
            "|  98|           1363392.0|\n",
            "|  47|            240530.0|\n",
            "|  99|           1358635.0|\n",
            "|  96|           1403339.0|\n",
            "+----+--------------------+\n",
            "only showing top 20 rows\n",
            "\n",
            "--- 0.5978062152862549 seconds ---\n"
          ]
        }
      ],
      "source": [
        "# 9. Using the cached data, run the query that filters out the view ratings with average price\n",
        "#  greater than or equal to $350,000. Determine the runtime and compare it to uncached runtime.\n",
        "\n",
        "start_time = time.time()\n",
        "query5 = \"\"\"\n",
        "\n",
        "select\n",
        "      view, ROUND(avg(price))\n",
        "from\n",
        "      home_sales\n",
        "where\n",
        "      price <= '350000'\n",
        "group by\n",
        "      view\n",
        "\n",
        "\"\"\"\n",
        "\n",
        "spark.sql(query5).show()\n",
        "\n",
        "print(\"--- %s seconds ---\" % (time.time() - start_time))\n"
      ]
    },
    {
      "cell_type": "code",
      "execution_count": 12,
      "metadata": {
        "id": "Qm12WN9isHBR"
      },
      "outputs": [],
      "source": [
        "# 10. Partition by the \"date_built\" field on the formatted parquet home sales data\n",
        "spark.conf.set(\"spark.sql.shuffle.partitions\", 8)\n",
        "df.write.partitionBy(\"date_built\").mode(\"overwrite\").parquet(\"home_sales_parquet\")"
      ]
    },
    {
      "cell_type": "code",
      "execution_count": 13,
      "metadata": {
        "id": "AZ7BgY61sRqY"
      },
      "outputs": [],
      "source": [
        "# 11. Read the formatted parquet data.\n",
        "df_parquet = spark.read.parquet(\"home_sales_parquet\")"
      ]
    },
    {
      "cell_type": "code",
      "execution_count": 14,
      "metadata": {
        "id": "J6MJkHfvVcvh"
      },
      "outputs": [],
      "source": [
        "# 12. Create a temporary table for the parquet data.\n",
        "df_parquet.createOrReplaceTempView(\"home_sales_parquet_view\")"
      ]
    },
    {
      "cell_type": "code",
      "execution_count": 15,
      "metadata": {
        "id": "G_Vhb52rU1Sn",
        "colab": {
          "base_uri": "https://localhost:8080/"
        },
        "outputId": "95cf19a4-1468-4a93-a967-0b3f5863cf33"
      },
      "outputs": [
        {
          "output_type": "stream",
          "name": "stdout",
          "text": [
            "+----+--------------------+\n",
            "|view|round(avg(price), 0)|\n",
            "+----+--------------------+\n",
            "|   1|            242194.0|\n",
            "|  44|            233405.0|\n",
            "|  43|            237204.0|\n",
            "|  80|           1378807.0|\n",
            "|  85|           1386319.0|\n",
            "|  87|           1391853.0|\n",
            "|   5|            230727.0|\n",
            "|  21|            233605.0|\n",
            "|  14|            236689.0|\n",
            "|  35|            231676.0|\n",
            "|  16|            235060.0|\n",
            "|  48|            234616.0|\n",
            "|  89|           1370636.0|\n",
            "|  93|           1397043.0|\n",
            "|  92|           1357087.0|\n",
            "|  77|           1355392.0|\n",
            "|  95|           1353350.0|\n",
            "|   3|            234471.0|\n",
            "|   8|            234155.0|\n",
            "|  36|            227436.0|\n",
            "+----+--------------------+\n",
            "only showing top 20 rows\n",
            "\n",
            "--- 0.8338413238525391 seconds ---\n"
          ]
        }
      ],
      "source": [
        "# 13. Run the query that filters out the view ratings with average price of greater than or eqaul to $350,000\n",
        "# with the parquet DataFrame. Round your average to two decimal places.\n",
        "# Determine the runtime and compare it to the cached version.\n",
        "\n",
        "start_time = time.time()\n",
        "\n",
        "query6 = \"\"\"\n",
        "\n",
        "select\n",
        "      view, ROUND(avg(price))\n",
        "from\n",
        "      home_sales_parquet_view\n",
        "where\n",
        "      price <= '350000'\n",
        "group by\n",
        "      view\n",
        "\n",
        "\"\"\"\n",
        "spark.sql(query6).show()\n",
        "\n",
        "print(\"--- %s seconds ---\" % (time.time() - start_time))"
      ]
    },
    {
      "cell_type": "code",
      "execution_count": 16,
      "metadata": {
        "id": "hjjYzQGjtbq8",
        "colab": {
          "base_uri": "https://localhost:8080/"
        },
        "outputId": "9119542b-86cf-43b3-bfe8-c6b4e759ea6b"
      },
      "outputs": [
        {
          "output_type": "execute_result",
          "data": {
            "text/plain": [
              "DataFrame[]"
            ]
          },
          "metadata": {},
          "execution_count": 16
        }
      ],
      "source": [
        "# 14. Uncache the home_sales temporary table.\n",
        "spark.sql(\"uncache table home_sales\")"
      ]
    },
    {
      "cell_type": "code",
      "execution_count": 17,
      "metadata": {
        "id": "Sy9NBvO7tlmm",
        "colab": {
          "base_uri": "https://localhost:8080/"
        },
        "outputId": "6fbac55a-d6d6-4111-c3c4-c688f3acb9d7"
      },
      "outputs": [
        {
          "output_type": "execute_result",
          "data": {
            "text/plain": [
              "False"
            ]
          },
          "metadata": {},
          "execution_count": 17
        }
      ],
      "source": [
        "# 15. Check if the home_sales is no longer cached\n",
        "spark.catalog.isCached(\"home_sales\")\n"
      ]
    },
    {
      "cell_type": "code",
      "source": [],
      "metadata": {
        "id": "kqBRdpgPuSib"
      },
      "execution_count": null,
      "outputs": []
    }
  ]
}